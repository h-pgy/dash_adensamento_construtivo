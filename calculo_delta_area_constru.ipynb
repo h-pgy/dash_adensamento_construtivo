{
 "cells": [
  {
   "cell_type": "code",
   "execution_count": 1,
   "id": "5d93067c-c717-49f5-abe1-de1ae03d3c9f",
   "metadata": {},
   "outputs": [
    {
     "name": "stderr",
     "output_type": "stream",
     "text": [
      "/home/h-pgy/anaconda3/lib/python3.8/site-packages/geopandas/_compat.py:111: UserWarning: The Shapely GEOS version (3.8.0-CAPI-1.13.1 ) is incompatible with the GEOS version PyGEOS was compiled with (3.10.1-CAPI-1.16.0). Conversions between both will be slow.\n",
      "  warnings.warn(\n"
     ]
    }
   ],
   "source": [
    "from core.transform_data.join_shape import JoinShp"
   ]
  },
  {
   "cell_type": "code",
   "execution_count": 2,
   "id": "14d85c54-4231-4512-ba63-dfa768201350",
   "metadata": {},
   "outputs": [],
   "source": [
    "shp = JoinShp()"
   ]
  },
  {
   "cell_type": "code",
   "execution_count": 3,
   "id": "fd740769-baa0-4a03-930a-840bf2527a0a",
   "metadata": {},
   "outputs": [
    {
     "name": "stdout",
     "output_type": "stream",
     "text": [
      "Reading saved file\n"
     ]
    }
   ],
   "source": [
    "geo_df = shp()"
   ]
  },
  {
   "cell_type": "code",
   "execution_count": 4,
   "id": "1ce4bf1e-ecd6-4dbc-84cc-3bca1650e885",
   "metadata": {},
   "outputs": [
    {
     "data": {
      "text/plain": [
       "Index(['quadra', 'sum_area_construida', 'ano_x', 'mean_valor_do_m2_do_terreno',\n",
       "       'mean_quantidade_de_pavimentos', 'ano_y', 'geometry'],\n",
       "      dtype='object')"
      ]
     },
     "execution_count": 4,
     "metadata": {},
     "output_type": "execute_result"
    }
   ],
   "source": [
    "geo_df.keys()"
   ]
  },
  {
   "cell_type": "code",
   "execution_count": 5,
   "id": "5b848e6e-656c-4897-81dc-7aea0324241c",
   "metadata": {},
   "outputs": [
    {
     "data": {
      "text/plain": [
       "pandas.core.frame.DataFrame"
      ]
     },
     "execution_count": 5,
     "metadata": {},
     "output_type": "execute_result"
    }
   ],
   "source": [
    "type(geo_df)"
   ]
  },
  {
   "cell_type": "code",
   "execution_count": 6,
   "id": "7fa86efc-d6b9-4605-9ea3-c336132e1cb9",
   "metadata": {},
   "outputs": [],
   "source": [
    "import geopandas as gpd"
   ]
  },
  {
   "cell_type": "code",
   "execution_count": 7,
   "id": "838c216e-51f3-40da-8ee0-9d38ac184efd",
   "metadata": {},
   "outputs": [],
   "source": [
    "geo_df = gpd.GeoDataFrame(geo_df, geometry=geo_df['geometry'])"
   ]
  },
  {
   "cell_type": "code",
   "execution_count": 8,
   "id": "bcd013da-428d-4b48-b8ac-9e970be26c9e",
   "metadata": {},
   "outputs": [],
   "source": [
    "geo_df = geo_df.set_crs(epsg = 31983)"
   ]
  },
  {
   "cell_type": "code",
   "execution_count": 9,
   "id": "74127402-a139-49ae-93da-691d8e8f0da2",
   "metadata": {},
   "outputs": [],
   "source": [
    "geo_df = geo_df.to_crs(epsg = 4326)"
   ]
  },
  {
   "cell_type": "code",
   "execution_count": 10,
   "id": "01b7bce2-8aaa-42d9-89f5-b5c6cb6c3b82",
   "metadata": {},
   "outputs": [],
   "source": [
    "geo_df = geo_df[['sum_area_construida', \n",
    "                  'mean_valor_do_m2_do_terreno', \n",
    "                  'mean_quantidade_de_pavimentos',\n",
    "                 'geometry']]"
   ]
  },
  {
   "cell_type": "code",
   "execution_count": 11,
   "id": "7b55270b-341e-4494-8974-a315820c7bba",
   "metadata": {},
   "outputs": [
    {
     "name": "stderr",
     "output_type": "stream",
     "text": [
      "<ipython-input-11-6791c649d6e6>:1: UserWarning: Column names longer than 10 characters will be truncated when saved to ESRI Shapefile.\n",
      "  geo_df.to_file('geodf.shp')\n"
     ]
    }
   ],
   "source": [
    "geo_df.to_file('geodf.shp')"
   ]
  },
  {
   "cell_type": "code",
   "execution_count": 20,
   "id": "8898ec00-ed23-4b3f-b8e7-e289262ee805",
   "metadata": {},
   "outputs": [
    {
     "data": {
      "text/html": [
       "<div>\n",
       "<style scoped>\n",
       "    .dataframe tbody tr th:only-of-type {\n",
       "        vertical-align: middle;\n",
       "    }\n",
       "\n",
       "    .dataframe tbody tr th {\n",
       "        vertical-align: top;\n",
       "    }\n",
       "\n",
       "    .dataframe thead th {\n",
       "        text-align: right;\n",
       "    }\n",
       "</style>\n",
       "<table border=\"1\" class=\"dataframe\">\n",
       "  <thead>\n",
       "    <tr style=\"text-align: right;\">\n",
       "      <th></th>\n",
       "      <th>sum_area_construida</th>\n",
       "      <th>mean_valor_do_m2_do_terreno</th>\n",
       "      <th>mean_quantidade_de_pavimentos</th>\n",
       "      <th>geometry</th>\n",
       "    </tr>\n",
       "  </thead>\n",
       "  <tbody>\n",
       "    <tr>\n",
       "      <th>0</th>\n",
       "      <td>3508697.0</td>\n",
       "      <td>7505.952033</td>\n",
       "      <td>17.028943</td>\n",
       "      <td>POLYGON ((-46.62673 -23.53383, -46.62678 -23.5...</td>\n",
       "    </tr>\n",
       "    <tr>\n",
       "      <th>1</th>\n",
       "      <td>1387501.0</td>\n",
       "      <td>3544.252985</td>\n",
       "      <td>12.838419</td>\n",
       "      <td>POLYGON ((-46.62215 -23.53884, -46.62215 -23.5...</td>\n",
       "    </tr>\n",
       "    <tr>\n",
       "      <th>2</th>\n",
       "      <td>1523382.0</td>\n",
       "      <td>2034.157057</td>\n",
       "      <td>15.515196</td>\n",
       "      <td>POLYGON ((-46.61060 -23.55436, -46.61055 -23.5...</td>\n",
       "    </tr>\n",
       "    <tr>\n",
       "      <th>3</th>\n",
       "      <td>1424638.0</td>\n",
       "      <td>1826.295034</td>\n",
       "      <td>12.019865</td>\n",
       "      <td>POLYGON ((-46.61526 -23.55868, -46.61535 -23.5...</td>\n",
       "    </tr>\n",
       "    <tr>\n",
       "      <th>4</th>\n",
       "      <td>2981724.0</td>\n",
       "      <td>5233.247460</td>\n",
       "      <td>15.882266</td>\n",
       "      <td>POLYGON ((-46.63771 -23.54672, -46.63771 -23.5...</td>\n",
       "    </tr>\n",
       "    <tr>\n",
       "      <th>...</th>\n",
       "      <td>...</td>\n",
       "      <td>...</td>\n",
       "      <td>...</td>\n",
       "      <td>...</td>\n",
       "    </tr>\n",
       "    <tr>\n",
       "      <th>218</th>\n",
       "      <td>421478.0</td>\n",
       "      <td>238.000000</td>\n",
       "      <td>2.747979</td>\n",
       "      <td>POLYGON ((-46.58478 -23.41622, -46.58470 -23.4...</td>\n",
       "    </tr>\n",
       "    <tr>\n",
       "      <th>219</th>\n",
       "      <td>322488.0</td>\n",
       "      <td>413.099722</td>\n",
       "      <td>2.196974</td>\n",
       "      <td>POLYGON ((-46.57412 -23.43825, -46.57404 -23.4...</td>\n",
       "    </tr>\n",
       "    <tr>\n",
       "      <th>220</th>\n",
       "      <td>640632.0</td>\n",
       "      <td>320.975092</td>\n",
       "      <td>1.020212</td>\n",
       "      <td>POLYGON ((-46.38215 -23.51792, -46.38216 -23.5...</td>\n",
       "    </tr>\n",
       "    <tr>\n",
       "      <th>221</th>\n",
       "      <td>67457.0</td>\n",
       "      <td>430.504468</td>\n",
       "      <td>3.987002</td>\n",
       "      <td>POLYGON ((-46.42517 -23.55402, -46.42611 -23.5...</td>\n",
       "    </tr>\n",
       "    <tr>\n",
       "      <th>222</th>\n",
       "      <td>178631.0</td>\n",
       "      <td>1788.814570</td>\n",
       "      <td>4.701159</td>\n",
       "      <td>POLYGON ((-46.63056 -23.63886, -46.63057 -23.6...</td>\n",
       "    </tr>\n",
       "  </tbody>\n",
       "</table>\n",
       "<p>223 rows × 4 columns</p>\n",
       "</div>"
      ],
      "text/plain": [
       "     sum_area_construida  mean_valor_do_m2_do_terreno  \\\n",
       "0              3508697.0                  7505.952033   \n",
       "1              1387501.0                  3544.252985   \n",
       "2              1523382.0                  2034.157057   \n",
       "3              1424638.0                  1826.295034   \n",
       "4              2981724.0                  5233.247460   \n",
       "..                   ...                          ...   \n",
       "218             421478.0                   238.000000   \n",
       "219             322488.0                   413.099722   \n",
       "220             640632.0                   320.975092   \n",
       "221              67457.0                   430.504468   \n",
       "222             178631.0                  1788.814570   \n",
       "\n",
       "     mean_quantidade_de_pavimentos  \\\n",
       "0                        17.028943   \n",
       "1                        12.838419   \n",
       "2                        15.515196   \n",
       "3                        12.019865   \n",
       "4                        15.882266   \n",
       "..                             ...   \n",
       "218                       2.747979   \n",
       "219                       2.196974   \n",
       "220                       1.020212   \n",
       "221                       3.987002   \n",
       "222                       4.701159   \n",
       "\n",
       "                                              geometry  \n",
       "0    POLYGON ((-46.62673 -23.53383, -46.62678 -23.5...  \n",
       "1    POLYGON ((-46.62215 -23.53884, -46.62215 -23.5...  \n",
       "2    POLYGON ((-46.61060 -23.55436, -46.61055 -23.5...  \n",
       "3    POLYGON ((-46.61526 -23.55868, -46.61535 -23.5...  \n",
       "4    POLYGON ((-46.63771 -23.54672, -46.63771 -23.5...  \n",
       "..                                                 ...  \n",
       "218  POLYGON ((-46.58478 -23.41622, -46.58470 -23.4...  \n",
       "219  POLYGON ((-46.57412 -23.43825, -46.57404 -23.4...  \n",
       "220  POLYGON ((-46.38215 -23.51792, -46.38216 -23.5...  \n",
       "221  POLYGON ((-46.42517 -23.55402, -46.42611 -23.5...  \n",
       "222  POLYGON ((-46.63056 -23.63886, -46.63057 -23.6...  \n",
       "\n",
       "[223 rows x 4 columns]"
      ]
     },
     "execution_count": 20,
     "metadata": {},
     "output_type": "execute_result"
    }
   ],
   "source": [
    "geo_df"
   ]
  },
  {
   "cell_type": "code",
   "execution_count": 12,
   "id": "aa70e0bf-2a47-4843-932a-11f8ab720de0",
   "metadata": {},
   "outputs": [],
   "source": [
    "import json"
   ]
  },
  {
   "cell_type": "code",
   "execution_count": 13,
   "id": "a625d2a4-871d-4231-885d-685d2b872d36",
   "metadata": {},
   "outputs": [],
   "source": [
    "import pydeck as pdk"
   ]
  },
  {
   "cell_type": "code",
   "execution_count": 29,
   "id": "4780e221-9493-4d4b-8565-9d6b1cd00e80",
   "metadata": {},
   "outputs": [],
   "source": [
    "def gerar_geojson(geodf):\n",
    "    \n",
    "    dados_json = geodf.to_json()\n",
    "    with open('dados.geo_json', 'w') as f:\n",
    "        json.dump(dados_json, f)\n",
    "    "
   ]
  },
  {
   "cell_type": "code",
   "execution_count": 30,
   "id": "916e9a73-b911-40cf-9519-10dedaea7b63",
   "metadata": {},
   "outputs": [],
   "source": [
    "dados = gerar_geojson(geo_df)"
   ]
  },
  {
   "cell_type": "code",
   "execution_count": 40,
   "id": "c34d0f4b-6c67-4569-b6fd-742a05b397c2",
   "metadata": {},
   "outputs": [
    {
     "data": {
      "text/html": [
       "<div>\n",
       "<style scoped>\n",
       "    .dataframe tbody tr th:only-of-type {\n",
       "        vertical-align: middle;\n",
       "    }\n",
       "\n",
       "    .dataframe tbody tr th {\n",
       "        vertical-align: top;\n",
       "    }\n",
       "\n",
       "    .dataframe thead th {\n",
       "        text-align: right;\n",
       "    }\n",
       "</style>\n",
       "<table border=\"1\" class=\"dataframe\">\n",
       "  <thead>\n",
       "    <tr style=\"text-align: right;\">\n",
       "      <th></th>\n",
       "      <th>sum_area_construida</th>\n",
       "      <th>mean_valor_do_m2_do_terreno</th>\n",
       "      <th>mean_quantidade_de_pavimentos</th>\n",
       "      <th>geometry</th>\n",
       "    </tr>\n",
       "  </thead>\n",
       "  <tbody>\n",
       "    <tr>\n",
       "      <th>0</th>\n",
       "      <td>3508697.0</td>\n",
       "      <td>7505.952033</td>\n",
       "      <td>17.028943</td>\n",
       "      <td>POLYGON ((-46.62673 -23.53383, -46.62678 -23.5...</td>\n",
       "    </tr>\n",
       "    <tr>\n",
       "      <th>1</th>\n",
       "      <td>1387501.0</td>\n",
       "      <td>3544.252985</td>\n",
       "      <td>12.838419</td>\n",
       "      <td>POLYGON ((-46.62215 -23.53884, -46.62215 -23.5...</td>\n",
       "    </tr>\n",
       "    <tr>\n",
       "      <th>2</th>\n",
       "      <td>1523382.0</td>\n",
       "      <td>2034.157057</td>\n",
       "      <td>15.515196</td>\n",
       "      <td>POLYGON ((-46.61060 -23.55436, -46.61055 -23.5...</td>\n",
       "    </tr>\n",
       "    <tr>\n",
       "      <th>3</th>\n",
       "      <td>1424638.0</td>\n",
       "      <td>1826.295034</td>\n",
       "      <td>12.019865</td>\n",
       "      <td>POLYGON ((-46.61526 -23.55868, -46.61535 -23.5...</td>\n",
       "    </tr>\n",
       "    <tr>\n",
       "      <th>4</th>\n",
       "      <td>2981724.0</td>\n",
       "      <td>5233.247460</td>\n",
       "      <td>15.882266</td>\n",
       "      <td>POLYGON ((-46.63771 -23.54672, -46.63771 -23.5...</td>\n",
       "    </tr>\n",
       "    <tr>\n",
       "      <th>...</th>\n",
       "      <td>...</td>\n",
       "      <td>...</td>\n",
       "      <td>...</td>\n",
       "      <td>...</td>\n",
       "    </tr>\n",
       "    <tr>\n",
       "      <th>218</th>\n",
       "      <td>421478.0</td>\n",
       "      <td>238.000000</td>\n",
       "      <td>2.747979</td>\n",
       "      <td>POLYGON ((-46.58478 -23.41622, -46.58470 -23.4...</td>\n",
       "    </tr>\n",
       "    <tr>\n",
       "      <th>219</th>\n",
       "      <td>322488.0</td>\n",
       "      <td>413.099722</td>\n",
       "      <td>2.196974</td>\n",
       "      <td>POLYGON ((-46.57412 -23.43825, -46.57404 -23.4...</td>\n",
       "    </tr>\n",
       "    <tr>\n",
       "      <th>220</th>\n",
       "      <td>640632.0</td>\n",
       "      <td>320.975092</td>\n",
       "      <td>1.020212</td>\n",
       "      <td>POLYGON ((-46.38215 -23.51792, -46.38216 -23.5...</td>\n",
       "    </tr>\n",
       "    <tr>\n",
       "      <th>221</th>\n",
       "      <td>67457.0</td>\n",
       "      <td>430.504468</td>\n",
       "      <td>3.987002</td>\n",
       "      <td>POLYGON ((-46.42517 -23.55402, -46.42611 -23.5...</td>\n",
       "    </tr>\n",
       "    <tr>\n",
       "      <th>222</th>\n",
       "      <td>178631.0</td>\n",
       "      <td>1788.814570</td>\n",
       "      <td>4.701159</td>\n",
       "      <td>POLYGON ((-46.63056 -23.63886, -46.63057 -23.6...</td>\n",
       "    </tr>\n",
       "  </tbody>\n",
       "</table>\n",
       "<p>223 rows × 4 columns</p>\n",
       "</div>"
      ],
      "text/plain": [
       "     sum_area_construida  mean_valor_do_m2_do_terreno  \\\n",
       "0              3508697.0                  7505.952033   \n",
       "1              1387501.0                  3544.252985   \n",
       "2              1523382.0                  2034.157057   \n",
       "3              1424638.0                  1826.295034   \n",
       "4              2981724.0                  5233.247460   \n",
       "..                   ...                          ...   \n",
       "218             421478.0                   238.000000   \n",
       "219             322488.0                   413.099722   \n",
       "220             640632.0                   320.975092   \n",
       "221              67457.0                   430.504468   \n",
       "222             178631.0                  1788.814570   \n",
       "\n",
       "     mean_quantidade_de_pavimentos  \\\n",
       "0                        17.028943   \n",
       "1                        12.838419   \n",
       "2                        15.515196   \n",
       "3                        12.019865   \n",
       "4                        15.882266   \n",
       "..                             ...   \n",
       "218                       2.747979   \n",
       "219                       2.196974   \n",
       "220                       1.020212   \n",
       "221                       3.987002   \n",
       "222                       4.701159   \n",
       "\n",
       "                                              geometry  \n",
       "0    POLYGON ((-46.62673 -23.53383, -46.62678 -23.5...  \n",
       "1    POLYGON ((-46.62215 -23.53884, -46.62215 -23.5...  \n",
       "2    POLYGON ((-46.61060 -23.55436, -46.61055 -23.5...  \n",
       "3    POLYGON ((-46.61526 -23.55868, -46.61535 -23.5...  \n",
       "4    POLYGON ((-46.63771 -23.54672, -46.63771 -23.5...  \n",
       "..                                                 ...  \n",
       "218  POLYGON ((-46.58478 -23.41622, -46.58470 -23.4...  \n",
       "219  POLYGON ((-46.57412 -23.43825, -46.57404 -23.4...  \n",
       "220  POLYGON ((-46.38215 -23.51792, -46.38216 -23.5...  \n",
       "221  POLYGON ((-46.42517 -23.55402, -46.42611 -23.5...  \n",
       "222  POLYGON ((-46.63056 -23.63886, -46.63057 -23.6...  \n",
       "\n",
       "[223 rows x 4 columns]"
      ]
     },
     "execution_count": 40,
     "metadata": {},
     "output_type": "execute_result"
    }
   ],
   "source": [
    "geo_df"
   ]
  },
  {
   "cell_type": "code",
   "execution_count": 37,
   "id": "f72a5bc6-08e4-4e9d-b18a-adda3954df04",
   "metadata": {},
   "outputs": [],
   "source": [
    "geojson = pdk.Layer(\n",
    "        \"GeoJsonLayer\",\n",
    "        dados,\n",
    "        opacity=0.8,\n",
    "        stroked=False,\n",
    "        filled=True,\n",
    "        extruded=True,\n",
    "        wireframe=True,\n",
    "        pickable=True,\n",
    "        get_elevation=\"sum_area_construida/1000\",\n",
    "        get_fill_color=\"[230, 230, 230]\",\n",
    "        get_line_color=[230, 230, 255],\n",
    "        auto_highlight=True,\n",
    "\n",
    "    )\n",
    "\n",
    "view_state = pdk.ViewState(\n",
    "    **{\"latitude\": -23.6, \"longitude\": -46.6, \"zoom\": 10, \"maxZoom\": 16, \"pitch\": 45, \"bearing\": 8}\n",
    ")"
   ]
  },
  {
   "cell_type": "code",
   "execution_count": 38,
   "id": "be0ac4b8-67a6-405a-b709-20d1170da3d1",
   "metadata": {},
   "outputs": [],
   "source": [
    "r = pdk.Deck(\n",
    "        [geojson],\n",
    "        initial_view_state=view_state,\n",
    "        map_style=pdk.map_styles.DARK,\n",
    "    )"
   ]
  },
  {
   "cell_type": "code",
   "execution_count": 39,
   "id": "1da7440f-98e7-458e-8561-549ff832a3a1",
   "metadata": {},
   "outputs": [
    {
     "data": {
      "text/html": [
       "\n",
       "        <iframe\n",
       "            width=\"100%\"\n",
       "            height=500\n",
       "            frameborder=\"0\"\n",
       "            srcdoc=\"&lt;!DOCTYPE html&gt;\n",
       "&lt;html&gt;\n",
       "  &lt;head&gt;\n",
       "    &lt;meta http-equiv=&quot;content-type&quot; content=&quot;text/html; charset=UTF-8&quot; /&gt;\n",
       "    &lt;title&gt;pydeck&lt;/title&gt;\n",
       "        &lt;script src=&quot;https://api.tiles.mapbox.com/mapbox-gl-js/v1.13.0/mapbox-gl.js&quot;&gt;&lt;/script&gt;\n",
       "        &lt;link rel=&quot;stylesheet&quot; href=&quot;https://maxcdn.bootstrapcdn.com/bootstrap/3.2.0/css/bootstrap-theme.min.css&quot; /&gt;\n",
       "    &lt;link rel=&quot;stylesheet&quot; href=&quot;https://maxcdn.bootstrapcdn.com/font-awesome/4.6.3/css/font-awesome.min.css&quot; /&gt;\n",
       "    &lt;script src=&#x27;https://cdn.jsdelivr.net/npm/@deck.gl/jupyter-widget@~8.5.*/dist/index.js&#x27;&gt;&lt;/script&gt;\n",
       "    &lt;style&gt;\n",
       "    body {\n",
       "  margin: 0;\n",
       "  padding: 0;\n",
       "  overflow: hidden;\n",
       "}\n",
       "\n",
       "#deck-map-container {\n",
       "  width: 100%;\n",
       "  height: 100%;\n",
       "  background-color: black;\n",
       "}\n",
       "\n",
       "#map {\n",
       "  pointer-events: none;\n",
       "  height: 100%;\n",
       "  width: 100%;\n",
       "  position: absolute;\n",
       "  z-index: 1;\n",
       "}\n",
       "\n",
       "#deckgl-overlay {\n",
       "  z-index: 2;\n",
       "  background: none;\n",
       "}\n",
       "\n",
       "#deck-map-wrapper {\n",
       "  width: 100%;\n",
       "  height: 100%;\n",
       "}\n",
       "\n",
       "#deck-container {\n",
       "  width: 100vw;\n",
       "  height: 100vh;\n",
       "}\n",
       "    &lt;/style&gt;\n",
       "  &lt;/head&gt;\n",
       "  &lt;body&gt;\n",
       "    &lt;div id=&quot;deck-container&quot;&gt;\n",
       "    &lt;/div&gt;\n",
       "  &lt;/body&gt;\n",
       "  &lt;script&gt;\n",
       "    const jsonInput = {&quot;initialViewState&quot;: {&quot;bearing&quot;: 8, &quot;latitude&quot;: -23.6, &quot;longitude&quot;: -46.6, &quot;maxZoom&quot;: 16, &quot;pitch&quot;: 45, &quot;zoom&quot;: 10}, &quot;layers&quot;: [{&quot;@@type&quot;: &quot;GeoJsonLayer&quot;, &quot;autoHighlight&quot;: true, &quot;extruded&quot;: true, &quot;filled&quot;: true, &quot;getElevation&quot;: &quot;@@=sum_area_construida/1000&quot;, &quot;getFillColor&quot;: &quot;@@=[230, 230, 230]&quot;, &quot;getLineColor&quot;: [230, 230, 255], &quot;id&quot;: &quot;aa9e34dc-88fe-4bc8-87f5-b51b0ae3ac43&quot;, &quot;opacity&quot;: 0.8, &quot;pickable&quot;: true, &quot;stroked&quot;: false, &quot;wireframe&quot;: true}], &quot;mapProvider&quot;: &quot;carto&quot;, &quot;mapStyle&quot;: &quot;https://basemaps.cartocdn.com/gl/dark-matter-gl-style/style.json&quot;, &quot;views&quot;: [{&quot;@@type&quot;: &quot;MapView&quot;, &quot;controller&quot;: true}]};\n",
       "    const tooltip = true;\n",
       "    const customLibraries = null;\n",
       "\n",
       "    const deckInstance = createDeck({\n",
       "                  container: document.getElementById(&#x27;deck-container&#x27;),\n",
       "      jsonInput,\n",
       "      tooltip,\n",
       "      customLibraries\n",
       "    });\n",
       "\n",
       "  &lt;/script&gt;\n",
       "&lt;/html&gt;\"\n",
       "        ></iframe>\n",
       "    "
      ],
      "text/plain": [
       "<IPython.core.display.HTML object>"
      ]
     },
     "execution_count": 39,
     "metadata": {},
     "output_type": "execute_result"
    }
   ],
   "source": [
    "r.to_html('mapa.html')"
   ]
  },
  {
   "cell_type": "code",
   "execution_count": null,
   "id": "ed9b0073-2653-46da-86a2-6fb239c53ab2",
   "metadata": {},
   "outputs": [],
   "source": []
  }
 ],
 "metadata": {
  "kernelspec": {
   "display_name": "Python 3",
   "language": "python",
   "name": "python3"
  },
  "language_info": {
   "codemirror_mode": {
    "name": "ipython",
    "version": 3
   },
   "file_extension": ".py",
   "mimetype": "text/x-python",
   "name": "python",
   "nbconvert_exporter": "python",
   "pygments_lexer": "ipython3",
   "version": "3.8.8"
  }
 },
 "nbformat": 4,
 "nbformat_minor": 5
}
