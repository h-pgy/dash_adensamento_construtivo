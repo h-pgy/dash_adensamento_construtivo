{
 "cells": [
  {
   "cell_type": "code",
   "execution_count": 1,
   "id": "2c13bcff-98d2-4559-863f-4763fda479aa",
   "metadata": {},
   "outputs": [],
   "source": [
    "from core.load_data import load_all"
   ]
  },
  {
   "cell_type": "code",
   "execution_count": 2,
   "id": "07d98644-489f-4d17-bd19-31ff0883699c",
   "metadata": {},
   "outputs": [
    {
     "name": "stdout",
     "output_type": "stream",
     "text": [
      "Shape C:\\Users\\d835916\\Desktop\\projetos\\dash_adensamento_construtivo\\original_data\\shp_files\\setores_fiscais já salvo\n",
      "Shape C:\\Users\\d835916\\Desktop\\projetos\\dash_adensamento_construtivo\\original_data\\shp_files\\zoneamento já salvo\n",
      "Arquivo 2013.csv ja salvo.\n",
      "Arquivo 2014.csv ja salvo.\n",
      "Arquivo 2015.csv ja salvo.\n",
      "Arquivo 2016.csv ja salvo.\n",
      "Arquivo 2017.csv ja salvo.\n",
      "Arquivo 2018.csv ja salvo.\n",
      "Arquivo 2019.csv ja salvo.\n",
      "Arquivo 2020.csv ja salvo.\n",
      "Arquivo 2021.csv ja salvo.\n",
      "Arquivo 2022.csv ja salvo.\n"
     ]
    }
   ],
   "source": [
    "load_all()"
   ]
  },
  {
   "cell_type": "code",
   "execution_count": 3,
   "id": "53719096-40de-4a58-ba17-724373c12364",
   "metadata": {},
   "outputs": [],
   "source": [
    "from core.transform_data import shp_setores_calculado"
   ]
  },
  {
   "cell_type": "code",
   "execution_count": 4,
   "id": "6f2fef55-9986-4cab-b8bf-eda27ebef8ee",
   "metadata": {},
   "outputs": [],
   "source": [
    "df = shp_setores_calculado()"
   ]
  },
  {
   "cell_type": "code",
   "execution_count": 5,
   "id": "9de7f782-fb45-4cca-829c-3ebdb83dc5c9",
   "metadata": {},
   "outputs": [
    {
     "data": {
      "text/plain": [
       "array([2013, 2014, 2015, 2016, 2017, 2018, 2019, 2020, 2021, 2022],\n",
       "      dtype=int64)"
      ]
     },
     "execution_count": 5,
     "metadata": {},
     "output_type": "execute_result"
    }
   ],
   "source": [
    "df['ano'].unique()"
   ]
  },
  {
   "cell_type": "code",
   "execution_count": 6,
   "id": "1eb09b6f-957a-47dc-865e-3d5dd0dc9d1a",
   "metadata": {},
   "outputs": [
    {
     "data": {
      "text/plain": [
       "geopandas.geodataframe.GeoDataFrame"
      ]
     },
     "execution_count": 6,
     "metadata": {},
     "output_type": "execute_result"
    }
   ],
   "source": [
    "type(df)"
   ]
  },
  {
   "cell_type": "code",
   "execution_count": 7,
   "id": "c69dd1fa-0c18-4fe1-a5f7-df0805f52098",
   "metadata": {},
   "outputs": [
    {
     "data": {
      "text/html": [
       "<div>\n",
       "<style scoped>\n",
       "    .dataframe tbody tr th:only-of-type {\n",
       "        vertical-align: middle;\n",
       "    }\n",
       "\n",
       "    .dataframe tbody tr th {\n",
       "        vertical-align: top;\n",
       "    }\n",
       "\n",
       "    .dataframe thead th {\n",
       "        text-align: right;\n",
       "    }\n",
       "</style>\n",
       "<table border=\"1\" class=\"dataframe\">\n",
       "  <thead>\n",
       "    <tr style=\"text-align: right;\">\n",
       "      <th></th>\n",
       "      <th>setor</th>\n",
       "      <th>sum_area_c</th>\n",
       "      <th>ano</th>\n",
       "      <th>mean_valor</th>\n",
       "      <th>mean_quant</th>\n",
       "      <th>geometry</th>\n",
       "    </tr>\n",
       "  </thead>\n",
       "  <tbody>\n",
       "    <tr>\n",
       "      <th>0</th>\n",
       "      <td>001</td>\n",
       "      <td>3473913.0</td>\n",
       "      <td>2013</td>\n",
       "      <td>2347.277014</td>\n",
       "      <td>17.137893</td>\n",
       "      <td>POLYGON ((-46.62673 -23.53383, -46.62678 -23.5...</td>\n",
       "    </tr>\n",
       "    <tr>\n",
       "      <th>1</th>\n",
       "      <td>002</td>\n",
       "      <td>1303772.0</td>\n",
       "      <td>2013</td>\n",
       "      <td>1097.869504</td>\n",
       "      <td>12.817334</td>\n",
       "      <td>POLYGON ((-46.62215 -23.53884, -46.62215 -23.5...</td>\n",
       "    </tr>\n",
       "    <tr>\n",
       "      <th>2</th>\n",
       "      <td>003</td>\n",
       "      <td>1203167.0</td>\n",
       "      <td>2013</td>\n",
       "      <td>644.327855</td>\n",
       "      <td>10.468339</td>\n",
       "      <td>POLYGON ((-46.61060 -23.55436, -46.61055 -23.5...</td>\n",
       "    </tr>\n",
       "    <tr>\n",
       "      <th>3</th>\n",
       "      <td>004</td>\n",
       "      <td>1358416.0</td>\n",
       "      <td>2013</td>\n",
       "      <td>455.252910</td>\n",
       "      <td>8.817925</td>\n",
       "      <td>POLYGON ((-46.61526 -23.55868, -46.61535 -23.5...</td>\n",
       "    </tr>\n",
       "    <tr>\n",
       "      <th>4</th>\n",
       "      <td>005</td>\n",
       "      <td>2787373.0</td>\n",
       "      <td>2013</td>\n",
       "      <td>1390.581117</td>\n",
       "      <td>15.151288</td>\n",
       "      <td>POLYGON ((-46.63771 -23.54672, -46.63771 -23.5...</td>\n",
       "    </tr>\n",
       "    <tr>\n",
       "      <th>...</th>\n",
       "      <td>...</td>\n",
       "      <td>...</td>\n",
       "      <td>...</td>\n",
       "      <td>...</td>\n",
       "      <td>...</td>\n",
       "      <td>...</td>\n",
       "    </tr>\n",
       "    <tr>\n",
       "      <th>2902</th>\n",
       "      <td>227</td>\n",
       "      <td>421478.0</td>\n",
       "      <td>2022</td>\n",
       "      <td>238.000000</td>\n",
       "      <td>2.747979</td>\n",
       "      <td>POLYGON ((-46.58478 -23.41622, -46.58470 -23.4...</td>\n",
       "    </tr>\n",
       "    <tr>\n",
       "      <th>2903</th>\n",
       "      <td>228</td>\n",
       "      <td>322488.0</td>\n",
       "      <td>2022</td>\n",
       "      <td>413.099722</td>\n",
       "      <td>2.196974</td>\n",
       "      <td>POLYGON ((-46.57412 -23.43825, -46.57404 -23.4...</td>\n",
       "    </tr>\n",
       "    <tr>\n",
       "      <th>2904</th>\n",
       "      <td>229</td>\n",
       "      <td>640632.0</td>\n",
       "      <td>2022</td>\n",
       "      <td>320.975092</td>\n",
       "      <td>1.020212</td>\n",
       "      <td>POLYGON ((-46.38215 -23.51792, -46.38216 -23.5...</td>\n",
       "    </tr>\n",
       "    <tr>\n",
       "      <th>2905</th>\n",
       "      <td>230</td>\n",
       "      <td>67457.0</td>\n",
       "      <td>2022</td>\n",
       "      <td>430.504468</td>\n",
       "      <td>3.987002</td>\n",
       "      <td>POLYGON ((-46.42517 -23.55402, -46.42611 -23.5...</td>\n",
       "    </tr>\n",
       "    <tr>\n",
       "      <th>2906</th>\n",
       "      <td>310</td>\n",
       "      <td>178631.0</td>\n",
       "      <td>2022</td>\n",
       "      <td>1788.814570</td>\n",
       "      <td>4.701159</td>\n",
       "      <td>POLYGON ((-46.63056 -23.63886, -46.63057 -23.6...</td>\n",
       "    </tr>\n",
       "  </tbody>\n",
       "</table>\n",
       "<p>2907 rows × 6 columns</p>\n",
       "</div>"
      ],
      "text/plain": [
       "     setor  sum_area_c   ano   mean_valor  mean_quant  \\\n",
       "0      001   3473913.0  2013  2347.277014   17.137893   \n",
       "1      002   1303772.0  2013  1097.869504   12.817334   \n",
       "2      003   1203167.0  2013   644.327855   10.468339   \n",
       "3      004   1358416.0  2013   455.252910    8.817925   \n",
       "4      005   2787373.0  2013  1390.581117   15.151288   \n",
       "...    ...         ...   ...          ...         ...   \n",
       "2902   227    421478.0  2022   238.000000    2.747979   \n",
       "2903   228    322488.0  2022   413.099722    2.196974   \n",
       "2904   229    640632.0  2022   320.975092    1.020212   \n",
       "2905   230     67457.0  2022   430.504468    3.987002   \n",
       "2906   310    178631.0  2022  1788.814570    4.701159   \n",
       "\n",
       "                                               geometry  \n",
       "0     POLYGON ((-46.62673 -23.53383, -46.62678 -23.5...  \n",
       "1     POLYGON ((-46.62215 -23.53884, -46.62215 -23.5...  \n",
       "2     POLYGON ((-46.61060 -23.55436, -46.61055 -23.5...  \n",
       "3     POLYGON ((-46.61526 -23.55868, -46.61535 -23.5...  \n",
       "4     POLYGON ((-46.63771 -23.54672, -46.63771 -23.5...  \n",
       "...                                                 ...  \n",
       "2902  POLYGON ((-46.58478 -23.41622, -46.58470 -23.4...  \n",
       "2903  POLYGON ((-46.57412 -23.43825, -46.57404 -23.4...  \n",
       "2904  POLYGON ((-46.38215 -23.51792, -46.38216 -23.5...  \n",
       "2905  POLYGON ((-46.42517 -23.55402, -46.42611 -23.5...  \n",
       "2906  POLYGON ((-46.63056 -23.63886, -46.63057 -23.6...  \n",
       "\n",
       "[2907 rows x 6 columns]"
      ]
     },
     "execution_count": 7,
     "metadata": {},
     "output_type": "execute_result"
    }
   ],
   "source": [
    "df"
   ]
  },
  {
   "cell_type": "code",
   "execution_count": null,
   "id": "1fdb0c5f-6d72-476a-a5b0-a7575b7dcaa8",
   "metadata": {},
   "outputs": [],
   "source": []
  }
 ],
 "metadata": {
  "kernelspec": {
   "display_name": "Python 3 (ipykernel)",
   "language": "python",
   "name": "python3"
  },
  "language_info": {
   "codemirror_mode": {
    "name": "ipython",
    "version": 3
   },
   "file_extension": ".py",
   "mimetype": "text/x-python",
   "name": "python",
   "nbconvert_exporter": "python",
   "pygments_lexer": "ipython3",
   "version": "3.11.1"
  }
 },
 "nbformat": 4,
 "nbformat_minor": 5
}
