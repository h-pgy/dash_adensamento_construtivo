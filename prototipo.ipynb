{
 "cells": [
  {
   "cell_type": "code",
   "execution_count": 1,
   "id": "2c13bcff-98d2-4559-863f-4763fda479aa",
   "metadata": {},
   "outputs": [],
   "source": [
    "from core.load_data import load_all\n",
    "import json\n",
    "import pydeck as pdk\n",
    "import pandas as pd"
   ]
  },
  {
   "cell_type": "code",
   "execution_count": 2,
   "id": "88d18da1-7058-4879-99f2-a13a1307f5e6",
   "metadata": {},
   "outputs": [],
   "source": [
    "#TO DO OBVIO\n",
    "#OS DADOS TEM QUE SER COLUNAS PARA OS ANOS\n",
    "# E GUARDAR APENAS UM POLIGONO\n",
    "# TRAZER A AREA TAMBÉM\n",
    "# E CALCULAR O CRESCIMENTO POR ANO"
   ]
  },
  {
   "cell_type": "code",
   "execution_count": 3,
   "id": "07d98644-489f-4d17-bd19-31ff0883699c",
   "metadata": {},
   "outputs": [
    {
     "name": "stdout",
     "output_type": "stream",
     "text": [
      "Shape /home/h-pgy/Desktop/Projetos/dash_adensamento_construtivo/original_data/shp_files/quadras_fiscais já salvo\n",
      "Shape /home/h-pgy/Desktop/Projetos/dash_adensamento_construtivo/original_data/shp_files/setores_fiscais já salvo\n",
      "Shape /home/h-pgy/Desktop/Projetos/dash_adensamento_construtivo/original_data/shp_files/zoneamento já salvo\n",
      "Arquivo 1995.csv ja salvo.\n",
      "Arquivo 1996.csv ja salvo.\n",
      "Arquivo 1997.csv ja salvo.\n",
      "Arquivo 1998.csv ja salvo.\n",
      "Arquivo 1999.csv ja salvo.\n",
      "Arquivo 2000.csv ja salvo.\n",
      "Arquivo 2001.csv ja salvo.\n",
      "Arquivo 2002.csv ja salvo.\n",
      "Arquivo 2003.csv ja salvo.\n",
      "Arquivo 2004.csv ja salvo.\n",
      "Arquivo 2005.csv ja salvo.\n",
      "Arquivo 2006.csv ja salvo.\n",
      "Arquivo 2007.csv ja salvo.\n",
      "Arquivo 2008.csv ja salvo.\n",
      "Arquivo 2009.csv ja salvo.\n",
      "Arquivo 2010.csv ja salvo.\n",
      "Arquivo 2011.csv ja salvo.\n",
      "Arquivo 2012.csv ja salvo.\n",
      "Arquivo 2013.csv ja salvo.\n",
      "Arquivo 2014.csv ja salvo.\n",
      "Arquivo 2015.csv ja salvo.\n",
      "Arquivo 2016.csv ja salvo.\n",
      "Arquivo 2017.csv ja salvo.\n",
      "Arquivo 2018.csv ja salvo.\n",
      "Arquivo 2019.csv ja salvo.\n",
      "Arquivo 2020.csv ja salvo.\n",
      "Arquivo 2021.csv ja salvo.\n",
      "Arquivo 2022.csv ja salvo.\n"
     ]
    }
   ],
   "source": [
    "load_all()"
   ]
  },
  {
   "cell_type": "code",
   "execution_count": 4,
   "id": "53719096-40de-4a58-ba17-724373c12364",
   "metadata": {},
   "outputs": [
    {
     "name": "stderr",
     "output_type": "stream",
     "text": [
      "/home/h-pgy/anaconda3/lib/python3.8/site-packages/geopandas/_compat.py:111: UserWarning: The Shapely GEOS version (3.8.0-CAPI-1.13.1 ) is incompatible with the GEOS version PyGEOS was compiled with (3.10.1-CAPI-1.16.0). Conversions between both will be slow.\n",
      "  warnings.warn(\n"
     ]
    }
   ],
   "source": [
    "from core.transform_data import JoinShp"
   ]
  },
  {
   "cell_type": "code",
   "execution_count": 5,
   "id": "6f2fef55-9986-4cab-b8bf-eda27ebef8ee",
   "metadata": {},
   "outputs": [],
   "source": [
    "get_df = JoinShp('quadra')"
   ]
  },
  {
   "cell_type": "code",
   "execution_count": 6,
   "id": "420d799c-cd3a-4424-8367-e98fae804b7b",
   "metadata": {},
   "outputs": [
    {
     "name": "stdout",
     "output_type": "stream",
     "text": [
      "Saving /home/h-pgy/Desktop/Projetos/dash_adensamento_construtivo/data/2018_quadra.parquet.gzip\n",
      "Saving /home/h-pgy/Desktop/Projetos/dash_adensamento_construtivo/data/2006_quadra.parquet.gzip\n",
      "Saving /home/h-pgy/Desktop/Projetos/dash_adensamento_construtivo/data/2022_quadra.parquet.gzip\n",
      "Saving /home/h-pgy/Desktop/Projetos/dash_adensamento_construtivo/data/2004_quadra.parquet.gzip\n",
      "Saving /home/h-pgy/Desktop/Projetos/dash_adensamento_construtivo/data/2017_quadra.parquet.gzip\n",
      "Saving /home/h-pgy/Desktop/Projetos/dash_adensamento_construtivo/data/2010_quadra.parquet.gzip\n",
      "Saving /home/h-pgy/Desktop/Projetos/dash_adensamento_construtivo/data/2001_quadra.parquet.gzip\n",
      "Saving /home/h-pgy/Desktop/Projetos/dash_adensamento_construtivo/data/2002_quadra.parquet.gzip\n",
      "Saving /home/h-pgy/Desktop/Projetos/dash_adensamento_construtivo/data/2014_quadra.parquet.gzip\n",
      "Saving /home/h-pgy/Desktop/Projetos/dash_adensamento_construtivo/data/2019_quadra.parquet.gzip\n",
      "Saving /home/h-pgy/Desktop/Projetos/dash_adensamento_construtivo/data/1995_quadra.parquet.gzip\n",
      "Saving /home/h-pgy/Desktop/Projetos/dash_adensamento_construtivo/data/2020_quadra.parquet.gzip\n",
      "Saving /home/h-pgy/Desktop/Projetos/dash_adensamento_construtivo/data/1996_quadra.parquet.gzip\n",
      "Saving /home/h-pgy/Desktop/Projetos/dash_adensamento_construtivo/data/2000_quadra.parquet.gzip\n",
      "Saving /home/h-pgy/Desktop/Projetos/dash_adensamento_construtivo/data/1998_quadra.parquet.gzip\n",
      "Saving /home/h-pgy/Desktop/Projetos/dash_adensamento_construtivo/data/1999_quadra.parquet.gzip\n",
      "Saving /home/h-pgy/Desktop/Projetos/dash_adensamento_construtivo/data/2008_quadra.parquet.gzip\n",
      "Saving /home/h-pgy/Desktop/Projetos/dash_adensamento_construtivo/data/2016_quadra.parquet.gzip\n",
      "Saving /home/h-pgy/Desktop/Projetos/dash_adensamento_construtivo/data/2009_quadra.parquet.gzip\n",
      "Saving /home/h-pgy/Desktop/Projetos/dash_adensamento_construtivo/data/2015_quadra.parquet.gzip\n",
      "Saving /home/h-pgy/Desktop/Projetos/dash_adensamento_construtivo/data/1997_quadra.parquet.gzip\n",
      "Saving /home/h-pgy/Desktop/Projetos/dash_adensamento_construtivo/data/2005_quadra.parquet.gzip\n",
      "Saving /home/h-pgy/Desktop/Projetos/dash_adensamento_construtivo/data/2011_quadra.parquet.gzip\n",
      "Saving /home/h-pgy/Desktop/Projetos/dash_adensamento_construtivo/data/2012_quadra.parquet.gzip\n",
      "Saving /home/h-pgy/Desktop/Projetos/dash_adensamento_construtivo/data/2013_quadra.parquet.gzip\n",
      "Saving /home/h-pgy/Desktop/Projetos/dash_adensamento_construtivo/data/2007_quadra.parquet.gzip\n",
      "Saving /home/h-pgy/Desktop/Projetos/dash_adensamento_construtivo/data/2003_quadra.parquet.gzip\n",
      "Saving /home/h-pgy/Desktop/Projetos/dash_adensamento_construtivo/data/2021_quadra.parquet.gzip\n"
     ]
    },
    {
     "name": "stderr",
     "output_type": "stream",
     "text": [
      "/home/h-pgy/anaconda3/lib/python3.8/site-packages/pandas/core/frame.py:5039: SettingWithCopyWarning: \n",
      "A value is trying to be set on a copy of a slice from a DataFrame\n",
      "\n",
      "See the caveats in the documentation: https://pandas.pydata.org/pandas-docs/stable/user_guide/indexing.html#returning-a-view-versus-a-copy\n",
      "  return super().rename(\n",
      "/home/h-pgy/Desktop/Projetos/dash_adensamento_construtivo/core/transform_data/join_shape.py:98: UserWarning: Column names longer than 10 characters will be truncated when saved to ESRI Shapefile.\n",
      "  final.to_file(self.fname)\n"
     ]
    }
   ],
   "source": [
    "df = get_df()"
   ]
  },
  {
   "cell_type": "code",
   "execution_count": 7,
   "id": "db6c65b3-dcdd-4cfe-925d-b9701d62f2d6",
   "metadata": {},
   "outputs": [
    {
     "data": {
      "text/html": [
       "<div>\n",
       "<style scoped>\n",
       "    .dataframe tbody tr th:only-of-type {\n",
       "        vertical-align: middle;\n",
       "    }\n",
       "\n",
       "    .dataframe tbody tr th {\n",
       "        vertical-align: top;\n",
       "    }\n",
       "\n",
       "    .dataframe thead th {\n",
       "        text-align: right;\n",
       "    }\n",
       "</style>\n",
       "<table border=\"1\" class=\"dataframe\">\n",
       "  <thead>\n",
       "    <tr style=\"text-align: right;\">\n",
       "      <th></th>\n",
       "      <th>quadra</th>\n",
       "      <th>geometry</th>\n",
       "      <th>sum_area_construida_1995</th>\n",
       "      <th>sum_area_construida_1996</th>\n",
       "      <th>sum_area_construida_1997</th>\n",
       "      <th>sum_area_construida_1998</th>\n",
       "      <th>sum_area_construida_1999</th>\n",
       "      <th>sum_area_construida_2000</th>\n",
       "      <th>sum_area_construida_2001</th>\n",
       "      <th>sum_area_construida_2002</th>\n",
       "      <th>...</th>\n",
       "      <th>mean_quantidade_de_pavimentos_2013</th>\n",
       "      <th>mean_quantidade_de_pavimentos_2014</th>\n",
       "      <th>mean_quantidade_de_pavimentos_2015</th>\n",
       "      <th>mean_quantidade_de_pavimentos_2016</th>\n",
       "      <th>mean_quantidade_de_pavimentos_2017</th>\n",
       "      <th>mean_quantidade_de_pavimentos_2018</th>\n",
       "      <th>mean_quantidade_de_pavimentos_2019</th>\n",
       "      <th>mean_quantidade_de_pavimentos_2020</th>\n",
       "      <th>mean_quantidade_de_pavimentos_2021</th>\n",
       "      <th>mean_quantidade_de_pavimentos_2022</th>\n",
       "    </tr>\n",
       "  </thead>\n",
       "  <tbody>\n",
       "    <tr>\n",
       "      <th>0</th>\n",
       "      <td>153029</td>\n",
       "      <td>POLYGON ((-46.49771 -23.61881, -46.49777 -23.6...</td>\n",
       "      <td>1811.0</td>\n",
       "      <td>2114.0</td>\n",
       "      <td>2984.0</td>\n",
       "      <td>2984.0</td>\n",
       "      <td>2984.0</td>\n",
       "      <td>3604.0</td>\n",
       "      <td>3604.0</td>\n",
       "      <td>3604.0</td>\n",
       "      <td>...</td>\n",
       "      <td>1.47500</td>\n",
       "      <td>1.47500</td>\n",
       "      <td>1.47500</td>\n",
       "      <td>1.47500</td>\n",
       "      <td>1.475000</td>\n",
       "      <td>1.475000</td>\n",
       "      <td>1.475000</td>\n",
       "      <td>1.475000</td>\n",
       "      <td>1.475000</td>\n",
       "      <td>1.475000</td>\n",
       "    </tr>\n",
       "    <tr>\n",
       "      <th>1</th>\n",
       "      <td>139181</td>\n",
       "      <td>POLYGON ((-46.43669 -23.51736, -46.43688 -23.5...</td>\n",
       "      <td>1792.0</td>\n",
       "      <td>1792.0</td>\n",
       "      <td>2935.0</td>\n",
       "      <td>2868.0</td>\n",
       "      <td>2868.0</td>\n",
       "      <td>3285.0</td>\n",
       "      <td>3309.0</td>\n",
       "      <td>3309.0</td>\n",
       "      <td>...</td>\n",
       "      <td>1.40625</td>\n",
       "      <td>1.40625</td>\n",
       "      <td>1.40625</td>\n",
       "      <td>1.40625</td>\n",
       "      <td>1.406250</td>\n",
       "      <td>1.406250</td>\n",
       "      <td>1.406250</td>\n",
       "      <td>1.406250</td>\n",
       "      <td>1.406250</td>\n",
       "      <td>1.406250</td>\n",
       "    </tr>\n",
       "    <tr>\n",
       "      <th>2</th>\n",
       "      <td>192150</td>\n",
       "      <td>POLYGON ((-46.39099 -23.52019, -46.39100 -23.5...</td>\n",
       "      <td>0.0</td>\n",
       "      <td>0.0</td>\n",
       "      <td>0.0</td>\n",
       "      <td>0.0</td>\n",
       "      <td>0.0</td>\n",
       "      <td>0.0</td>\n",
       "      <td>0.0</td>\n",
       "      <td>0.0</td>\n",
       "      <td>...</td>\n",
       "      <td>0.00000</td>\n",
       "      <td>0.00000</td>\n",
       "      <td>1.06422</td>\n",
       "      <td>1.06422</td>\n",
       "      <td>1.064220</td>\n",
       "      <td>1.064220</td>\n",
       "      <td>1.064220</td>\n",
       "      <td>1.064220</td>\n",
       "      <td>1.064220</td>\n",
       "      <td>1.064220</td>\n",
       "    </tr>\n",
       "    <tr>\n",
       "      <th>3</th>\n",
       "      <td>008030</td>\n",
       "      <td>POLYGON ((-46.63989 -23.53071, -46.63995 -23.5...</td>\n",
       "      <td>28394.0</td>\n",
       "      <td>28394.0</td>\n",
       "      <td>28394.0</td>\n",
       "      <td>28394.0</td>\n",
       "      <td>28394.0</td>\n",
       "      <td>28394.0</td>\n",
       "      <td>28394.0</td>\n",
       "      <td>28371.0</td>\n",
       "      <td>...</td>\n",
       "      <td>4.00000</td>\n",
       "      <td>4.00000</td>\n",
       "      <td>4.00000</td>\n",
       "      <td>4.00000</td>\n",
       "      <td>4.009346</td>\n",
       "      <td>4.037383</td>\n",
       "      <td>4.037383</td>\n",
       "      <td>4.037383</td>\n",
       "      <td>4.096154</td>\n",
       "      <td>4.121495</td>\n",
       "    </tr>\n",
       "    <tr>\n",
       "      <th>4</th>\n",
       "      <td>138217</td>\n",
       "      <td>POLYGON ((-46.42523 -23.53512, -46.42527 -23.5...</td>\n",
       "      <td>932.0</td>\n",
       "      <td>900.0</td>\n",
       "      <td>900.0</td>\n",
       "      <td>900.0</td>\n",
       "      <td>1790.0</td>\n",
       "      <td>1790.0</td>\n",
       "      <td>1790.0</td>\n",
       "      <td>1790.0</td>\n",
       "      <td>...</td>\n",
       "      <td>0.90625</td>\n",
       "      <td>0.90625</td>\n",
       "      <td>0.90625</td>\n",
       "      <td>0.90625</td>\n",
       "      <td>0.906250</td>\n",
       "      <td>0.906250</td>\n",
       "      <td>0.906250</td>\n",
       "      <td>0.906250</td>\n",
       "      <td>0.906250</td>\n",
       "      <td>0.906250</td>\n",
       "    </tr>\n",
       "  </tbody>\n",
       "</table>\n",
       "<p>5 rows × 86 columns</p>\n",
       "</div>"
      ],
      "text/plain": [
       "   quadra                                           geometry  \\\n",
       "0  153029  POLYGON ((-46.49771 -23.61881, -46.49777 -23.6...   \n",
       "1  139181  POLYGON ((-46.43669 -23.51736, -46.43688 -23.5...   \n",
       "2  192150  POLYGON ((-46.39099 -23.52019, -46.39100 -23.5...   \n",
       "3  008030  POLYGON ((-46.63989 -23.53071, -46.63995 -23.5...   \n",
       "4  138217  POLYGON ((-46.42523 -23.53512, -46.42527 -23.5...   \n",
       "\n",
       "   sum_area_construida_1995  sum_area_construida_1996  \\\n",
       "0                    1811.0                    2114.0   \n",
       "1                    1792.0                    1792.0   \n",
       "2                       0.0                       0.0   \n",
       "3                   28394.0                   28394.0   \n",
       "4                     932.0                     900.0   \n",
       "\n",
       "   sum_area_construida_1997  sum_area_construida_1998  \\\n",
       "0                    2984.0                    2984.0   \n",
       "1                    2935.0                    2868.0   \n",
       "2                       0.0                       0.0   \n",
       "3                   28394.0                   28394.0   \n",
       "4                     900.0                     900.0   \n",
       "\n",
       "   sum_area_construida_1999  sum_area_construida_2000  \\\n",
       "0                    2984.0                    3604.0   \n",
       "1                    2868.0                    3285.0   \n",
       "2                       0.0                       0.0   \n",
       "3                   28394.0                   28394.0   \n",
       "4                    1790.0                    1790.0   \n",
       "\n",
       "   sum_area_construida_2001  sum_area_construida_2002  ...  \\\n",
       "0                    3604.0                    3604.0  ...   \n",
       "1                    3309.0                    3309.0  ...   \n",
       "2                       0.0                       0.0  ...   \n",
       "3                   28394.0                   28371.0  ...   \n",
       "4                    1790.0                    1790.0  ...   \n",
       "\n",
       "   mean_quantidade_de_pavimentos_2013  mean_quantidade_de_pavimentos_2014  \\\n",
       "0                             1.47500                             1.47500   \n",
       "1                             1.40625                             1.40625   \n",
       "2                             0.00000                             0.00000   \n",
       "3                             4.00000                             4.00000   \n",
       "4                             0.90625                             0.90625   \n",
       "\n",
       "   mean_quantidade_de_pavimentos_2015  mean_quantidade_de_pavimentos_2016  \\\n",
       "0                             1.47500                             1.47500   \n",
       "1                             1.40625                             1.40625   \n",
       "2                             1.06422                             1.06422   \n",
       "3                             4.00000                             4.00000   \n",
       "4                             0.90625                             0.90625   \n",
       "\n",
       "   mean_quantidade_de_pavimentos_2017  mean_quantidade_de_pavimentos_2018  \\\n",
       "0                            1.475000                            1.475000   \n",
       "1                            1.406250                            1.406250   \n",
       "2                            1.064220                            1.064220   \n",
       "3                            4.009346                            4.037383   \n",
       "4                            0.906250                            0.906250   \n",
       "\n",
       "   mean_quantidade_de_pavimentos_2019  mean_quantidade_de_pavimentos_2020  \\\n",
       "0                            1.475000                            1.475000   \n",
       "1                            1.406250                            1.406250   \n",
       "2                            1.064220                            1.064220   \n",
       "3                            4.037383                            4.037383   \n",
       "4                            0.906250                            0.906250   \n",
       "\n",
       "   mean_quantidade_de_pavimentos_2021  mean_quantidade_de_pavimentos_2022  \n",
       "0                            1.475000                            1.475000  \n",
       "1                            1.406250                            1.406250  \n",
       "2                            1.064220                            1.064220  \n",
       "3                            4.096154                            4.121495  \n",
       "4                            0.906250                            0.906250  \n",
       "\n",
       "[5 rows x 86 columns]"
      ]
     },
     "execution_count": 7,
     "metadata": {},
     "output_type": "execute_result"
    }
   ],
   "source": [
    "df.head()"
   ]
  },
  {
   "cell_type": "code",
   "execution_count": 8,
   "id": "1eb09b6f-957a-47dc-865e-3d5dd0dc9d1a",
   "metadata": {},
   "outputs": [
    {
     "data": {
      "text/plain": [
       "geopandas.geodataframe.GeoDataFrame"
      ]
     },
     "execution_count": 8,
     "metadata": {},
     "output_type": "execute_result"
    }
   ],
   "source": [
    "type(df)"
   ]
  },
  {
   "cell_type": "code",
   "execution_count": 9,
   "id": "2ae6191e-f68d-4b97-b2d6-98bea2b14448",
   "metadata": {},
   "outputs": [
    {
     "data": {
      "text/plain": [
       "quadra                                  object\n",
       "geometry                              geometry\n",
       "sum_area_construida_1995               float64\n",
       "sum_area_construida_1996               float64\n",
       "sum_area_construida_1997               float64\n",
       "                                        ...   \n",
       "mean_quantidade_de_pavimentos_2018     float64\n",
       "mean_quantidade_de_pavimentos_2019     float64\n",
       "mean_quantidade_de_pavimentos_2020     float64\n",
       "mean_quantidade_de_pavimentos_2021     float64\n",
       "mean_quantidade_de_pavimentos_2022     float64\n",
       "Length: 86, dtype: object"
      ]
     },
     "execution_count": 9,
     "metadata": {},
     "output_type": "execute_result"
    }
   ],
   "source": [
    "df.dtypes"
   ]
  },
  {
   "cell_type": "code",
   "execution_count": 10,
   "id": "3ade855c-51b5-4349-9af4-4810becdf32c",
   "metadata": {},
   "outputs": [],
   "source": [
    "df['area'] = df['geometry'].to_crs(epsg=31983).area"
   ]
  },
  {
   "cell_type": "code",
   "execution_count": 11,
   "id": "e23beda1-02b8-4bdf-bbc4-62f190039020",
   "metadata": {},
   "outputs": [],
   "source": [
    "df['prop_area_construida_2022'] = df['sum_area_construida_2022']/df['area']\n",
    "df['prop_area_construida_2013'] = df['sum_area_construida_2013']/df['area']\n",
    "df['prop_area_construida_1995'] = df['sum_area_construida_1995']/df['area']"
   ]
  },
  {
   "cell_type": "code",
   "execution_count": 12,
   "id": "a94a52cd-be60-4a81-bb50-87ac47c829b1",
   "metadata": {},
   "outputs": [
    {
     "data": {
      "text/plain": [
       "<AxesSubplot:>"
      ]
     },
     "execution_count": 12,
     "metadata": {},
     "output_type": "execute_result"
    },
    {
     "data": {
      "image/png": "[encoded data removed]",
      "text/plain": [
       "<Figure size 432x288 with 1 Axes>"
      ]
     },
     "metadata": {
      "needs_background": "light"
     },
     "output_type": "display_data"
    }
   ],
   "source": [
    "df['prop_area_construida_2013'].plot.box()"
   ]
  },
  {
   "cell_type": "code",
   "execution_count": 13,
   "id": "6c22f5e7-b027-4475-b7cf-b237e20e7c43",
   "metadata": {},
   "outputs": [
    {
     "data": {
      "text/plain": [
       "<AxesSubplot:>"
      ]
     },
     "execution_count": 13,
     "metadata": {},
     "output_type": "execute_result"
    },
    {
     "data": {
      "image/png": "[encoded data removed]",
      "text/plain": [
       "<Figure size 432x288 with 1 Axes>"
      ]
     },
     "metadata": {
      "needs_background": "light"
     },
     "output_type": "display_data"
    }
   ],
   "source": [
    "df['prop_area_construida_2022'].plot.box()"
   ]
  },
  {
   "cell_type": "code",
   "execution_count": 17,
   "id": "07dafb26-54ac-472e-8a3f-5b5148898540",
   "metadata": {},
   "outputs": [],
   "source": [
    "df_final = df[['quadra','prop_area_construida_2022',  'prop_area_construida_2013',\n",
    "              'mean_quantidade_de_pavimentos_2022', 'mean_quantidade_de_pavimentos_2013',\n",
    "             'mean_valor_do_m2_do_terreno_2022','prop_area_construida_1995',\n",
    "               'mean_valor_do_m2_do_terreno_2013',\n",
    "               'sum_area_construida_2013',\n",
    "               'sum_area_construida_2022',\n",
    "               'sum_area_construida_1995',\n",
    "               'geometry']].copy()"
   ]
  },
  {
   "cell_type": "code",
   "execution_count": 18,
   "id": "d0e96144-57f9-40aa-906a-da8a882cfdf5",
   "metadata": {},
   "outputs": [],
   "source": [
    "def min_max(df, col):\n",
    "    \n",
    "    df[col] = (df[col]-df[col].min())/(df[col].max()-df[col].min())"
   ]
  },
  {
   "cell_type": "code",
   "execution_count": 19,
   "id": "e66f59a2-586c-486a-b427-fae2586f277c",
   "metadata": {},
   "outputs": [],
   "source": [
    "min_max(df_final, 'mean_valor_do_m2_do_terreno_2022')\n",
    "min_max(df_final, 'mean_valor_do_m2_do_terreno_2013')"
   ]
  },
  {
   "cell_type": "code",
   "execution_count": 20,
   "id": "3b9d3cac-2d20-45b7-a330-6cc1bde6e271",
   "metadata": {},
   "outputs": [
    {
     "data": {
      "text/plain": [
       "0.02076905333282544"
      ]
     },
     "execution_count": 20,
     "metadata": {},
     "output_type": "execute_result"
    }
   ],
   "source": [
    "df_final['mean_valor_do_m2_do_terreno_2013'].median()"
   ]
  },
  {
   "cell_type": "code",
   "execution_count": 21,
   "id": "1bd58e19-b58f-4aa3-9562-f17052e9f909",
   "metadata": {},
   "outputs": [
    {
     "data": {
      "text/plain": [
       "False"
      ]
     },
     "execution_count": 21,
     "metadata": {},
     "output_type": "execute_result"
    }
   ],
   "source": [
    "df_final['mean_valor_do_m2_do_terreno_2013'].isnull().any()"
   ]
  },
  {
   "cell_type": "code",
   "execution_count": 22,
   "id": "f1891186-74a2-45af-aa26-898e9ed2eb7d",
   "metadata": {},
   "outputs": [
    {
     "data": {
      "text/html": [
       "<div>\n",
       "<style scoped>\n",
       "    .dataframe tbody tr th:only-of-type {\n",
       "        vertical-align: middle;\n",
       "    }\n",
       "\n",
       "    .dataframe tbody tr th {\n",
       "        vertical-align: top;\n",
       "    }\n",
       "\n",
       "    .dataframe thead th {\n",
       "        text-align: right;\n",
       "    }\n",
       "</style>\n",
       "<table border=\"1\" class=\"dataframe\">\n",
       "  <thead>\n",
       "    <tr style=\"text-align: right;\">\n",
       "      <th></th>\n",
       "      <th>quadra</th>\n",
       "      <th>prop_area_construida_2022</th>\n",
       "      <th>prop_area_construida_2013</th>\n",
       "      <th>mean_quantidade_de_pavimentos_2022</th>\n",
       "      <th>mean_quantidade_de_pavimentos_2013</th>\n",
       "      <th>mean_valor_do_m2_do_terreno_2022</th>\n",
       "      <th>prop_area_construida_1995</th>\n",
       "      <th>mean_valor_do_m2_do_terreno_2013</th>\n",
       "      <th>sum_area_construida_2013</th>\n",
       "      <th>sum_area_construida_2022</th>\n",
       "      <th>sum_area_construida_1995</th>\n",
       "      <th>geometry</th>\n",
       "    </tr>\n",
       "  </thead>\n",
       "  <tbody>\n",
       "    <tr>\n",
       "      <th>0</th>\n",
       "      <td>153029</td>\n",
       "      <td>0.741076</td>\n",
       "      <td>0.741076</td>\n",
       "      <td>1.475000</td>\n",
       "      <td>1.47500</td>\n",
       "      <td>0.026803</td>\n",
       "      <td>0.372699</td>\n",
       "      <td>0.013288</td>\n",
       "      <td>3601.0</td>\n",
       "      <td>3601.0</td>\n",
       "      <td>1811.0</td>\n",
       "      <td>POLYGON ((-46.49771 -23.61881, -46.49777 -23.6...</td>\n",
       "    </tr>\n",
       "    <tr>\n",
       "      <th>1</th>\n",
       "      <td>139181</td>\n",
       "      <td>0.668709</td>\n",
       "      <td>0.668709</td>\n",
       "      <td>1.406250</td>\n",
       "      <td>1.40625</td>\n",
       "      <td>0.027074</td>\n",
       "      <td>0.335102</td>\n",
       "      <td>0.011510</td>\n",
       "      <td>3576.0</td>\n",
       "      <td>3576.0</td>\n",
       "      <td>1792.0</td>\n",
       "      <td>POLYGON ((-46.43669 -23.51736, -46.43688 -23.5...</td>\n",
       "    </tr>\n",
       "    <tr>\n",
       "      <th>2</th>\n",
       "      <td>192150</td>\n",
       "      <td>0.790043</td>\n",
       "      <td>0.000000</td>\n",
       "      <td>1.064220</td>\n",
       "      <td>0.00000</td>\n",
       "      <td>0.013772</td>\n",
       "      <td>0.000000</td>\n",
       "      <td>0.000000</td>\n",
       "      <td>0.0</td>\n",
       "      <td>5474.0</td>\n",
       "      <td>0.0</td>\n",
       "      <td>POLYGON ((-46.39099 -23.52019, -46.39100 -23.5...</td>\n",
       "    </tr>\n",
       "    <tr>\n",
       "      <th>3</th>\n",
       "      <td>008030</td>\n",
       "      <td>3.046583</td>\n",
       "      <td>2.860954</td>\n",
       "      <td>4.121495</td>\n",
       "      <td>4.00000</td>\n",
       "      <td>0.366684</td>\n",
       "      <td>2.696025</td>\n",
       "      <td>0.299378</td>\n",
       "      <td>30131.0</td>\n",
       "      <td>32086.0</td>\n",
       "      <td>28394.0</td>\n",
       "      <td>POLYGON ((-46.63989 -23.53071, -46.63995 -23.5...</td>\n",
       "    </tr>\n",
       "    <tr>\n",
       "      <th>4</th>\n",
       "      <td>138217</td>\n",
       "      <td>0.325633</td>\n",
       "      <td>0.325633</td>\n",
       "      <td>0.906250</td>\n",
       "      <td>0.90625</td>\n",
       "      <td>0.011214</td>\n",
       "      <td>0.165299</td>\n",
       "      <td>0.007369</td>\n",
       "      <td>1836.0</td>\n",
       "      <td>1836.0</td>\n",
       "      <td>932.0</td>\n",
       "      <td>POLYGON ((-46.42523 -23.53512, -46.42527 -23.5...</td>\n",
       "    </tr>\n",
       "  </tbody>\n",
       "</table>\n",
       "</div>"
      ],
      "text/plain": [
       "   quadra  prop_area_construida_2022  prop_area_construida_2013  \\\n",
       "0  153029                   0.741076                   0.741076   \n",
       "1  139181                   0.668709                   0.668709   \n",
       "2  192150                   0.790043                   0.000000   \n",
       "3  008030                   3.046583                   2.860954   \n",
       "4  138217                   0.325633                   0.325633   \n",
       "\n",
       "   mean_quantidade_de_pavimentos_2022  mean_quantidade_de_pavimentos_2013  \\\n",
       "0                            1.475000                             1.47500   \n",
       "1                            1.406250                             1.40625   \n",
       "2                            1.064220                             0.00000   \n",
       "3                            4.121495                             4.00000   \n",
       "4                            0.906250                             0.90625   \n",
       "\n",
       "   mean_valor_do_m2_do_terreno_2022  prop_area_construida_1995  \\\n",
       "0                          0.026803                   0.372699   \n",
       "1                          0.027074                   0.335102   \n",
       "2                          0.013772                   0.000000   \n",
       "3                          0.366684                   2.696025   \n",
       "4                          0.011214                   0.165299   \n",
       "\n",
       "   mean_valor_do_m2_do_terreno_2013  sum_area_construida_2013  \\\n",
       "0                          0.013288                    3601.0   \n",
       "1                          0.011510                    3576.0   \n",
       "2                          0.000000                       0.0   \n",
       "3                          0.299378                   30131.0   \n",
       "4                          0.007369                    1836.0   \n",
       "\n",
       "   sum_area_construida_2022  sum_area_construida_1995  \\\n",
       "0                    3601.0                    1811.0   \n",
       "1                    3576.0                    1792.0   \n",
       "2                    5474.0                       0.0   \n",
       "3                   32086.0                   28394.0   \n",
       "4                    1836.0                     932.0   \n",
       "\n",
       "                                            geometry  \n",
       "0  POLYGON ((-46.49771 -23.61881, -46.49777 -23.6...  \n",
       "1  POLYGON ((-46.43669 -23.51736, -46.43688 -23.5...  \n",
       "2  POLYGON ((-46.39099 -23.52019, -46.39100 -23.5...  \n",
       "3  POLYGON ((-46.63989 -23.53071, -46.63995 -23.5...  \n",
       "4  POLYGON ((-46.42523 -23.53512, -46.42527 -23.5...  "
      ]
     },
     "execution_count": 22,
     "metadata": {},
     "output_type": "execute_result"
    }
   ],
   "source": [
    "df_final.head()"
   ]
  },
  {
   "cell_type": "code",
   "execution_count": 23,
   "id": "5c3a0754-8dbf-4ace-b710-7cac05b7595c",
   "metadata": {},
   "outputs": [
    {
     "data": {
      "text/plain": [
       "quadra                                False\n",
       "prop_area_construida_2022             False\n",
       "prop_area_construida_2013             False\n",
       "mean_quantidade_de_pavimentos_2022    False\n",
       "mean_quantidade_de_pavimentos_2013    False\n",
       "mean_valor_do_m2_do_terreno_2022      False\n",
       "prop_area_construida_1995             False\n",
       "mean_valor_do_m2_do_terreno_2013      False\n",
       "sum_area_construida_2013              False\n",
       "sum_area_construida_2022              False\n",
       "sum_area_construida_1995              False\n",
       "geometry                              False\n",
       "dtype: bool"
      ]
     },
     "execution_count": 23,
     "metadata": {},
     "output_type": "execute_result"
    }
   ],
   "source": [
    "df_final.isna().any()"
   ]
  },
  {
   "cell_type": "code",
   "execution_count": 24,
   "id": "0013e0ba-ee38-4096-9f2e-c9ac2eaa2f37",
   "metadata": {},
   "outputs": [
    {
     "data": {
      "text/html": [
       "<div>\n",
       "<style scoped>\n",
       "    .dataframe tbody tr th:only-of-type {\n",
       "        vertical-align: middle;\n",
       "    }\n",
       "\n",
       "    .dataframe tbody tr th {\n",
       "        vertical-align: top;\n",
       "    }\n",
       "\n",
       "    .dataframe thead th {\n",
       "        text-align: right;\n",
       "    }\n",
       "</style>\n",
       "<table border=\"1\" class=\"dataframe\">\n",
       "  <thead>\n",
       "    <tr style=\"text-align: right;\">\n",
       "      <th></th>\n",
       "      <th>count</th>\n",
       "      <th>mean</th>\n",
       "      <th>std</th>\n",
       "      <th>min</th>\n",
       "      <th>25%</th>\n",
       "      <th>50%</th>\n",
       "      <th>75%</th>\n",
       "      <th>max</th>\n",
       "    </tr>\n",
       "  </thead>\n",
       "  <tbody>\n",
       "    <tr>\n",
       "      <th>prop_area_construida_2022</th>\n",
       "      <td>64028.0</td>\n",
       "      <td>1043.336209</td>\n",
       "      <td>1.832867e+05</td>\n",
       "      <td>0.0</td>\n",
       "      <td>0.412618</td>\n",
       "      <td>0.759042</td>\n",
       "      <td>1.399963</td>\n",
       "      <td>3.827250e+07</td>\n",
       "    </tr>\n",
       "    <tr>\n",
       "      <th>prop_area_construida_2013</th>\n",
       "      <td>64028.0</td>\n",
       "      <td>5731.597951</td>\n",
       "      <td>1.389002e+06</td>\n",
       "      <td>0.0</td>\n",
       "      <td>0.435778</td>\n",
       "      <td>0.731287</td>\n",
       "      <td>1.321410</td>\n",
       "      <td>3.513125e+08</td>\n",
       "    </tr>\n",
       "    <tr>\n",
       "      <th>mean_quantidade_de_pavimentos_2022</th>\n",
       "      <td>64028.0</td>\n",
       "      <td>2.620448</td>\n",
       "      <td>4.180233e+00</td>\n",
       "      <td>0.0</td>\n",
       "      <td>1.126280</td>\n",
       "      <td>1.459459</td>\n",
       "      <td>1.812500</td>\n",
       "      <td>4.144027e+01</td>\n",
       "    </tr>\n",
       "    <tr>\n",
       "      <th>mean_quantidade_de_pavimentos_2013</th>\n",
       "      <td>64028.0</td>\n",
       "      <td>2.464154</td>\n",
       "      <td>3.754274e+00</td>\n",
       "      <td>0.0</td>\n",
       "      <td>1.133333</td>\n",
       "      <td>1.416667</td>\n",
       "      <td>1.745455</td>\n",
       "      <td>4.144027e+01</td>\n",
       "    </tr>\n",
       "    <tr>\n",
       "      <th>mean_valor_do_m2_do_terreno_2022</th>\n",
       "      <td>64028.0</td>\n",
       "      <td>0.043579</td>\n",
       "      <td>5.874903e-02</td>\n",
       "      <td>0.0</td>\n",
       "      <td>0.015136</td>\n",
       "      <td>0.029656</td>\n",
       "      <td>0.046861</td>\n",
       "      <td>1.000000e+00</td>\n",
       "    </tr>\n",
       "    <tr>\n",
       "      <th>prop_area_construida_1995</th>\n",
       "      <td>64028.0</td>\n",
       "      <td>5819.129884</td>\n",
       "      <td>1.442183e+06</td>\n",
       "      <td>0.0</td>\n",
       "      <td>0.191489</td>\n",
       "      <td>0.526568</td>\n",
       "      <td>0.929496</td>\n",
       "      <td>3.648913e+08</td>\n",
       "    </tr>\n",
       "    <tr>\n",
       "      <th>mean_valor_do_m2_do_terreno_2013</th>\n",
       "      <td>64028.0</td>\n",
       "      <td>0.033083</td>\n",
       "      <td>4.453950e-02</td>\n",
       "      <td>0.0</td>\n",
       "      <td>0.010118</td>\n",
       "      <td>0.020769</td>\n",
       "      <td>0.037597</td>\n",
       "      <td>1.000000e+00</td>\n",
       "    </tr>\n",
       "    <tr>\n",
       "      <th>sum_area_construida_2013</th>\n",
       "      <td>64028.0</td>\n",
       "      <td>11525.790154</td>\n",
       "      <td>2.669484e+04</td>\n",
       "      <td>0.0</td>\n",
       "      <td>2376.000000</td>\n",
       "      <td>5133.000000</td>\n",
       "      <td>10301.000000</td>\n",
       "      <td>1.096186e+06</td>\n",
       "    </tr>\n",
       "    <tr>\n",
       "      <th>sum_area_construida_2022</th>\n",
       "      <td>64028.0</td>\n",
       "      <td>12639.234210</td>\n",
       "      <td>3.154705e+04</td>\n",
       "      <td>0.0</td>\n",
       "      <td>2059.000000</td>\n",
       "      <td>5303.000000</td>\n",
       "      <td>10958.250000</td>\n",
       "      <td>1.096186e+06</td>\n",
       "    </tr>\n",
       "    <tr>\n",
       "      <th>sum_area_construida_1995</th>\n",
       "      <td>64028.0</td>\n",
       "      <td>7564.636940</td>\n",
       "      <td>1.695967e+04</td>\n",
       "      <td>0.0</td>\n",
       "      <td>1088.000000</td>\n",
       "      <td>3515.000000</td>\n",
       "      <td>7398.000000</td>\n",
       "      <td>7.260920e+05</td>\n",
       "    </tr>\n",
       "  </tbody>\n",
       "</table>\n",
       "</div>"
      ],
      "text/plain": [
       "                                      count          mean           std  min  \\\n",
       "prop_area_construida_2022           64028.0   1043.336209  1.832867e+05  0.0   \n",
       "prop_area_construida_2013           64028.0   5731.597951  1.389002e+06  0.0   \n",
       "mean_quantidade_de_pavimentos_2022  64028.0      2.620448  4.180233e+00  0.0   \n",
       "mean_quantidade_de_pavimentos_2013  64028.0      2.464154  3.754274e+00  0.0   \n",
       "mean_valor_do_m2_do_terreno_2022    64028.0      0.043579  5.874903e-02  0.0   \n",
       "prop_area_construida_1995           64028.0   5819.129884  1.442183e+06  0.0   \n",
       "mean_valor_do_m2_do_terreno_2013    64028.0      0.033083  4.453950e-02  0.0   \n",
       "sum_area_construida_2013            64028.0  11525.790154  2.669484e+04  0.0   \n",
       "sum_area_construida_2022            64028.0  12639.234210  3.154705e+04  0.0   \n",
       "sum_area_construida_1995            64028.0   7564.636940  1.695967e+04  0.0   \n",
       "\n",
       "                                            25%          50%           75%  \\\n",
       "prop_area_construida_2022              0.412618     0.759042      1.399963   \n",
       "prop_area_construida_2013              0.435778     0.731287      1.321410   \n",
       "mean_quantidade_de_pavimentos_2022     1.126280     1.459459      1.812500   \n",
       "mean_quantidade_de_pavimentos_2013     1.133333     1.416667      1.745455   \n",
       "mean_valor_do_m2_do_terreno_2022       0.015136     0.029656      0.046861   \n",
       "prop_area_construida_1995              0.191489     0.526568      0.929496   \n",
       "mean_valor_do_m2_do_terreno_2013       0.010118     0.020769      0.037597   \n",
       "sum_area_construida_2013            2376.000000  5133.000000  10301.000000   \n",
       "sum_area_construida_2022            2059.000000  5303.000000  10958.250000   \n",
       "sum_area_construida_1995            1088.000000  3515.000000   7398.000000   \n",
       "\n",
       "                                             max  \n",
       "prop_area_construida_2022           3.827250e+07  \n",
       "prop_area_construida_2013           3.513125e+08  \n",
       "mean_quantidade_de_pavimentos_2022  4.144027e+01  \n",
       "mean_quantidade_de_pavimentos_2013  4.144027e+01  \n",
       "mean_valor_do_m2_do_terreno_2022    1.000000e+00  \n",
       "prop_area_construida_1995           3.648913e+08  \n",
       "mean_valor_do_m2_do_terreno_2013    1.000000e+00  \n",
       "sum_area_construida_2013            1.096186e+06  \n",
       "sum_area_construida_2022            1.096186e+06  \n",
       "sum_area_construida_1995            7.260920e+05  "
      ]
     },
     "execution_count": 24,
     "metadata": {},
     "output_type": "execute_result"
    }
   ],
   "source": [
    "df_final.describe().T"
   ]
  },
  {
   "cell_type": "code",
   "execution_count": 25,
   "id": "f1ed58fb-1e39-4141-81c1-89f0eb52992d",
   "metadata": {},
   "outputs": [],
   "source": [
    "from copy import copy"
   ]
  },
  {
   "cell_type": "code",
   "execution_count": 26,
   "id": "1fdb0c5f-6d72-476a-a5b0-a7575b7dcaa8",
   "metadata": {},
   "outputs": [],
   "source": [
    "def gerar_geojson(geodf):\n",
    "    \n",
    "    dados_json = geodf.to_json()\n",
    "    geojson = json.loads(dados_json)\n",
    "    \n",
    "    return geojson"
   ]
  },
  {
   "cell_type": "code",
   "execution_count": 27,
   "id": "3d3c44ea-bf0a-41ff-8310-72c263b0edc9",
   "metadata": {},
   "outputs": [],
   "source": [
    "gjson = gerar_geojson(df_final)"
   ]
  },
  {
   "cell_type": "code",
   "execution_count": 28,
   "id": "3ded94d8-dd97-48f2-ba3c-1c110e801b28",
   "metadata": {},
   "outputs": [],
   "source": [
    "with open('data.geojson', 'w') as f:\n",
    "    json.dump(gjson, f)"
   ]
  },
  {
   "cell_type": "code",
   "execution_count": 29,
   "id": "6f67f5a1-9c8d-4d11-a42e-85f8ef78b7fd",
   "metadata": {},
   "outputs": [
    {
     "data": {
      "text/plain": [
       "dict_keys(['mean_quantidade_de_pavimentos_2013', 'mean_quantidade_de_pavimentos_2022', 'mean_valor_do_m2_do_terreno_2013', 'mean_valor_do_m2_do_terreno_2022', 'prop_area_construida_1995', 'prop_area_construida_2013', 'prop_area_construida_2022', 'quadra', 'sum_area_construida_1995', 'sum_area_construida_2013', 'sum_area_construida_2022'])"
      ]
     },
     "execution_count": 29,
     "metadata": {},
     "output_type": "execute_result"
    }
   ],
   "source": [
    "gjson['features'][0]['properties'].keys()"
   ]
  },
  {
   "cell_type": "code",
   "execution_count": 30,
   "id": "e6296446-d481-4f11-a860-6e7f38e95614",
   "metadata": {},
   "outputs": [
    {
     "data": {
      "text/plain": [
       "64028"
      ]
     },
     "execution_count": 30,
     "metadata": {},
     "output_type": "execute_result"
    }
   ],
   "source": [
    "len(gjson['features'])"
   ]
  },
  {
   "cell_type": "code",
   "execution_count": null,
   "id": "4a30a461-a371-4250-b5e2-0dcede9426b9",
   "metadata": {},
   "outputs": [],
   "source": [
    "#gjson['features'][0]"
   ]
  },
  {
   "cell_type": "code",
   "execution_count": null,
   "id": "3d29744f-b360-498a-a450-e40f4fee7dba",
   "metadata": {},
   "outputs": [],
   "source": [
    "#df['mean_valor'] = (df['mean_valor']-df['mean_valor'].mean())/df['mean_valor'].std()"
   ]
  },
  {
   "cell_type": "code",
   "execution_count": null,
   "id": "f92c4091-4672-433d-b627-6db11286abd1",
   "metadata": {},
   "outputs": [],
   "source": [
    "#df.to_file('dados.geojson', driver=\"GeoJSON\")"
   ]
  },
  {
   "cell_type": "code",
   "execution_count": null,
   "id": "d0d9ea4f-00c6-4f03-884b-7b6cca955e4e",
   "metadata": {},
   "outputs": [],
   "source": [
    "from streamlit_app import gerar_mapa_setores"
   ]
  },
  {
   "cell_type": "code",
   "execution_count": null,
   "id": "783785b0-4fd6-4af0-9a97-da9eb7f6338c",
   "metadata": {},
   "outputs": [],
   "source": [
    "r = gerar_mapa_setores(gjson)"
   ]
  },
  {
   "cell_type": "code",
   "execution_count": null,
   "id": "8bd117c3-a39f-4715-a942-140d96343bfe",
   "metadata": {
    "tags": []
   },
   "outputs": [],
   "source": [
    "df_final.sort_values(by='prop_area_construida_2022', ascending=False)"
   ]
  },
  {
   "cell_type": "code",
   "execution_count": null,
   "id": "0f647408-9ea2-45ce-99ca-28a7d5bc2365",
   "metadata": {},
   "outputs": [],
   "source": []
  }
 ],
 "metadata": {
  "kernelspec": {
   "display_name": "Python 3",
   "language": "python",
   "name": "python3"
  },
  "language_info": {
   "codemirror_mode": {
    "name": "ipython",
    "version": 3
   },
   "file_extension": ".py",
   "mimetype": "text/x-python",
   "name": "python",
   "nbconvert_exporter": "python",
   "pygments_lexer": "ipython3",
   "version": "3.8.8"
  }
 },
 "nbformat": 4,
 "nbformat_minor": 5
}
